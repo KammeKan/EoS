{
  "nbformat": 4,
  "nbformat_minor": 0,
  "metadata": {
    "colab": {
      "provenance": [],
      "collapsed_sections": [],
      "authorship_tag": "ABX9TyPaBD7B4SgQkWYuqGWYxuzz",
      "include_colab_link": true
    },
    "kernelspec": {
      "name": "python3",
      "display_name": "Python 3"
    },
    "language_info": {
      "name": "python"
    }
  },
  "cells": [
    {
      "cell_type": "markdown",
      "metadata": {
        "id": "view-in-github",
        "colab_type": "text"
      },
      "source": [
        "<a href=\"https://colab.research.google.com/github/KammeKan/EoS/blob/main/Plots1.ipynb\" target=\"_parent\"><img src=\"https://colab.research.google.com/assets/colab-badge.svg\" alt=\"Open In Colab\"/></a>"
      ]
    },
    {
      "cell_type": "code",
      "source": [
        "import requests\n",
        "import numpy as np\n",
        "import pandas as pd"
      ],
      "metadata": {
        "id": "94FSCNoAPKxL"
      },
      "execution_count": 3,
      "outputs": []
    },
    {
      "cell_type": "code",
      "source": [
        "url = \"https://raw.githubusercontent.com/KammeKan/EoS/main/WB_EoS.dat\"\n",
        "response = requests.get(url)"
      ],
      "metadata": {
        "id": "m7R1DNYyPQ1Q"
      },
      "execution_count": 4,
      "outputs": []
    },
    {
      "cell_type": "code",
      "source": [
        "string = response.content"
      ],
      "metadata": {
        "id": "9l70hC03QPIc"
      },
      "execution_count": 5,
      "outputs": []
    },
    {
      "cell_type": "code",
      "source": [
        "string.split()[:12]"
      ],
      "metadata": {
        "colab": {
          "base_uri": "https://localhost:8080/"
        },
        "id": "OixE4d0FQfPF",
        "outputId": "86312e01-e9f5-41ff-b91f-bb9dd2004090"
      },
      "execution_count": 6,
      "outputs": [
        {
          "output_type": "execute_result",
          "data": {
            "text/plain": [
              "[b'#T/MeV',\n",
              " b'I/T^4',\n",
              " b'dI/T^4',\n",
              " b'p/T^4',\n",
              " b'dp/T^4',\n",
              " b'eps/T^4',\n",
              " b'deps/T^4',\n",
              " b's/T^3',\n",
              " b'ds/T^3',\n",
              " b'cs^2',\n",
              " b'dcs^2',\n",
              " b'110']"
            ]
          },
          "metadata": {},
          "execution_count": 6
        }
      ]
    },
    {
      "cell_type": "code",
      "source": [
        "stri = string.decode()"
      ],
      "metadata": {
        "id": "Nl35r9exXMv9"
      },
      "execution_count": 7,
      "outputs": []
    },
    {
      "cell_type": "code",
      "source": [
        "values = stri.split()"
      ],
      "metadata": {
        "id": "fR1JP6_0X7eS"
      },
      "execution_count": 8,
      "outputs": []
    },
    {
      "cell_type": "code",
      "source": [
        "len(values)"
      ],
      "metadata": {
        "colab": {
          "base_uri": "https://localhost:8080/"
        },
        "id": "_rhaab_Vbeb0",
        "outputId": "a8340b18-789f-4eec-a748-97d9efedc4fe"
      },
      "execution_count": 9,
      "outputs": [
        {
          "output_type": "execute_result",
          "data": {
            "text/plain": [
              "693"
            ]
          },
          "metadata": {},
          "execution_count": 9
        }
      ]
    },
    {
      "cell_type": "code",
      "source": [
        "EoS_data = np.zeros((62, 11))"
      ],
      "metadata": {
        "id": "eiqQUzNfbf4Z"
      },
      "execution_count": 10,
      "outputs": []
    },
    {
      "cell_type": "code",
      "source": [
        "\n",
        "i = 0\n",
        "k = 0\n",
        "for j in values[11:693]:\n",
        "  EoS_data[i, k % 11] = float(j)\n",
        "  k = k + 1\n",
        "  if k % 11 == 0:\n",
        "    i = i + 1\n",
        "\n"
      ],
      "metadata": {
        "id": "TXJctpgFgak4"
      },
      "execution_count": 11,
      "outputs": []
    },
    {
      "cell_type": "code",
      "source": [
        "EoS_data"
      ],
      "metadata": {
        "colab": {
          "base_uri": "https://localhost:8080/"
        },
        "id": "kDwSwwL1iLqY",
        "outputId": "76b38dfe-059b-458c-8c47-7e71619d95bc"
      },
      "execution_count": 12,
      "outputs": [
        {
          "output_type": "execute_result",
          "data": {
            "text/plain": [
              "array([[1.10e+02, 7.22e-01, 5.04e-01, 2.42e-01, 1.15e-01, 1.39e+00,\n",
              "        6.00e-01, 1.61e+00, 6.79e-01, 2.32e-01, 7.58e-02],\n",
              "       [1.15e+02, 7.61e-01, 4.16e-01, 2.74e-01, 1.13e-01, 1.56e+00,\n",
              "        5.48e-01, 1.83e+00, 6.11e-01, 2.10e-01, 7.04e-02],\n",
              "       [1.20e+02, 8.44e-01, 3.24e-01, 3.08e-01, 1.13e-01, 1.80e+00,\n",
              "        4.97e-01, 2.12e+00, 5.53e-01, 1.91e-01, 5.75e-02],\n",
              "       [1.25e+02, 9.91e-01, 2.34e-01, 3.48e-01, 1.13e-01, 2.09e+00,\n",
              "        4.49e-01, 2.44e+00, 5.05e-01, 1.73e-01, 3.96e-02],\n",
              "       [1.30e+02, 1.18e+00, 2.08e-01, 3.93e-01, 1.11e-01, 2.42e+00,\n",
              "        4.21e-01, 2.81e+00, 4.86e-01, 1.62e-01, 2.28e-02],\n",
              "       [1.35e+02, 1.40e+00, 2.81e-01, 4.44e-01, 1.05e-01, 2.81e+00,\n",
              "        4.39e-01, 3.23e+00, 5.04e-01, 1.57e-01, 1.37e-02],\n",
              "       [1.40e+02, 1.65e+00, 3.81e-01, 5.01e-01, 9.78e-02, 3.23e+00,\n",
              "        4.83e-01, 3.73e+00, 5.43e-01, 1.55e-01, 1.36e-02],\n",
              "       [1.45e+02, 1.91e+00, 4.50e-01, 5.65e-01, 8.95e-02, 3.68e+00,\n",
              "        5.12e-01, 4.24e+00, 5.72e-01, 1.54e-01, 1.46e-02],\n",
              "       [1.50e+02, 2.20e+00, 4.60e-01, 6.33e-01, 8.23e-02, 4.15e+00,\n",
              "        4.95e-01, 4.80e+00, 5.62e-01, 1.56e-01, 1.35e-02],\n",
              "       [1.55e+02, 2.49e+00, 3.90e-01, 7.12e-01, 7.70e-02, 4.62e+00,\n",
              "        4.13e-01, 5.35e+00, 4.94e-01, 1.59e-01, 1.07e-02],\n",
              "       [1.60e+02, 2.77e+00, 2.95e-01, 7.98e-01, 7.35e-02, 5.12e+00,\n",
              "        3.09e-01, 5.92e+00, 4.12e-01, 1.63e-01, 7.73e-03],\n",
              "       [1.65e+02, 3.06e+00, 2.19e-01, 8.86e-01, 7.02e-02, 5.70e+00,\n",
              "        2.35e-01, 6.54e+00, 3.51e-01, 1.68e-01, 5.66e-03],\n",
              "       [1.70e+02, 3.32e+00, 1.98e-01, 9.81e-01, 6.66e-02, 6.30e+00,\n",
              "        1.95e-01, 7.24e+00, 3.27e-01, 1.74e-01, 4.34e-03],\n",
              "       [1.75e+02, 3.53e+00, 1.85e-01, 1.08e+00, 6.30e-02, 6.84e+00,\n",
              "        1.86e-01, 7.90e+00, 3.07e-01, 1.81e-01, 3.71e-03],\n",
              "       [1.80e+02, 3.69e+00, 1.60e-01, 1.18e+00, 6.00e-02, 7.34e+00,\n",
              "        1.97e-01, 8.50e+00, 2.82e-01, 1.87e-01, 4.39e-03],\n",
              "       [1.85e+02, 3.81e+00, 1.47e-01, 1.28e+00, 5.80e-02, 7.77e+00,\n",
              "        2.17e-01, 9.03e+00, 2.68e-01, 1.94e-01, 5.47e-03],\n",
              "       [1.90e+02, 3.88e+00, 1.69e-01, 1.39e+00, 5.65e-02, 8.14e+00,\n",
              "        2.33e-01, 9.51e+00, 2.76e-01, 2.02e-01, 6.09e-03],\n",
              "       [1.95e+02, 3.88e+00, 1.96e-01, 1.49e+00, 5.56e-02, 8.47e+00,\n",
              "        2.51e-01, 9.94e+00, 2.90e-01, 2.10e-01, 5.85e-03],\n",
              "       [2.00e+02, 3.88e+00, 2.29e-01, 1.58e+00, 5.46e-02, 8.77e+00,\n",
              "        2.57e-01, 1.03e+01, 3.11e-01, 2.20e-01, 5.57e-03],\n",
              "       [2.05e+02, 3.85e+00, 2.24e-01, 1.68e+00, 5.35e-02, 9.04e+00,\n",
              "        2.58e-01, 1.07e+01, 3.04e-01, 2.30e-01, 5.69e-03],\n",
              "       [2.10e+02, 3.81e+00, 2.04e-01, 1.77e+00, 5.23e-02, 9.27e+00,\n",
              "        2.56e-01, 1.11e+01, 2.87e-01, 2.39e-01, 5.84e-03],\n",
              "       [2.15e+02, 3.77e+00, 1.70e-01, 1.86e+00, 5.17e-02, 9.48e+00,\n",
              "        2.48e-01, 1.14e+01, 2.61e-01, 2.45e-01, 5.62e-03],\n",
              "       [2.20e+02, 3.70e+00, 1.42e-01, 1.95e+00, 5.32e-02, 9.69e+00,\n",
              "        2.43e-01, 1.16e+01, 2.49e-01, 2.50e-01, 5.43e-03],\n",
              "       [2.25e+02, 3.63e+00, 1.26e-01, 2.03e+00, 5.44e-02, 9.88e+00,\n",
              "        2.40e-01, 1.19e+01, 2.45e-01, 2.54e-01, 5.30e-03],\n",
              "       [2.30e+02, 3.57e+00, 1.22e-01, 2.12e+00, 5.56e-02, 1.01e+01,\n",
              "        2.37e-01, 1.22e+01, 2.47e-01, 2.58e-01, 5.22e-03],\n",
              "       [2.35e+02, 3.51e+00, 1.20e-01, 2.20e+00, 5.65e-02, 1.02e+01,\n",
              "        2.37e-01, 1.24e+01, 2.49e-01, 2.61e-01, 5.20e-03],\n",
              "       [2.40e+02, 3.45e+00, 1.20e-01, 2.27e+00, 5.74e-02, 1.04e+01,\n",
              "        2.38e-01, 1.27e+01, 2.52e-01, 2.63e-01, 5.29e-03],\n",
              "       [2.45e+02, 3.38e+00, 1.19e-01, 2.35e+00, 5.83e-02, 1.05e+01,\n",
              "        2.39e-01, 1.29e+01, 2.55e-01, 2.65e-01, 5.56e-03],\n",
              "       [2.50e+02, 3.32e+00, 1.16e-01, 2.42e+00, 5.91e-02, 1.07e+01,\n",
              "        2.39e-01, 1.31e+01, 2.57e-01, 2.67e-01, 5.80e-03],\n",
              "       [2.60e+02, 3.21e+00, 1.07e-01, 2.55e+00, 6.09e-02, 1.09e+01,\n",
              "        2.46e-01, 1.35e+01, 2.59e-01, 2.71e-01, 6.15e-03],\n",
              "       [2.70e+02, 3.09e+00, 9.52e-02, 2.68e+00, 6.25e-02, 1.12e+01,\n",
              "        2.55e-01, 1.38e+01, 2.61e-01, 2.76e-01, 6.55e-03],\n",
              "       [2.80e+02, 2.98e+00, 8.78e-02, 2.78e+00, 6.42e-02, 1.14e+01,\n",
              "        2.66e-01, 1.41e+01, 2.65e-01, 2.80e-01, 6.90e-03],\n",
              "       [2.90e+02, 2.89e+00, 8.81e-02, 2.89e+00, 6.61e-02, 1.15e+01,\n",
              "        2.72e-01, 1.44e+01, 2.72e-01, 2.84e-01, 7.21e-03],\n",
              "       [3.00e+02, 2.78e+00, 9.67e-02, 2.98e+00, 6.81e-02, 1.17e+01,\n",
              "        2.81e-01, 1.47e+01, 2.83e-01, 2.88e-01, 7.34e-03],\n",
              "       [3.10e+02, 2.67e+00, 1.09e-01, 3.07e+00, 7.02e-02, 1.18e+01,\n",
              "        2.91e-01, 1.49e+01, 2.95e-01, 2.92e-01, 7.51e-03],\n",
              "       [3.20e+02, 2.56e+00, 1.21e-01, 3.15e+00, 7.23e-02, 1.19e+01,\n",
              "        2.99e-01, 1.51e+01, 3.08e-01, 2.96e-01, 7.70e-03],\n",
              "       [3.30e+02, 2.44e+00, 1.31e-01, 3.23e+00, 7.46e-02, 1.20e+01,\n",
              "        3.09e-01, 1.53e+01, 3.21e-01, 2.98e-01, 7.94e-03],\n",
              "       [3.40e+02, 2.33e+00, 1.43e-01, 3.29e+00, 7.60e-02, 1.21e+01,\n",
              "        3.19e-01, 1.54e+01, 3.31e-01, 3.01e-01, 8.21e-03],\n",
              "       [3.50e+02, 2.23e+00, 1.57e-01, 3.36e+00, 7.73e-02, 1.22e+01,\n",
              "        3.28e-01, 1.55e+01, 3.42e-01, 3.03e-01, 8.41e-03],\n",
              "       [3.60e+02, 2.13e+00, 1.71e-01, 3.41e+00, 7.96e-02, 1.22e+01,\n",
              "        3.36e-01, 1.57e+01, 3.57e-01, 3.04e-01, 8.53e-03],\n",
              "       [3.70e+02, 2.05e+00, 1.85e-01, 3.47e+00, 8.17e-02, 1.23e+01,\n",
              "        3.43e-01, 1.58e+01, 3.71e-01, 3.06e-01, 8.64e-03],\n",
              "       [3.80e+02, 1.96e+00, 1.96e-01, 3.52e+00, 8.37e-02, 1.23e+01,\n",
              "        3.48e-01, 1.59e+01, 3.83e-01, 3.08e-01, 8.67e-03],\n",
              "       [3.90e+02, 1.87e+00, 2.01e-01, 3.56e+00, 8.55e-02, 1.24e+01,\n",
              "        3.54e-01, 1.59e+01, 3.93e-01, 3.10e-01, 8.61e-03],\n",
              "       [4.00e+02, 1.79e+00, 2.04e-01, 3.60e+00, 8.74e-02, 1.24e+01,\n",
              "        3.59e-01, 1.60e+01, 4.01e-01, 3.12e-01, 8.53e-03],\n",
              "       [4.10e+02, 1.70e+00, 2.03e-01, 3.64e+00, 8.94e-02, 1.25e+01,\n",
              "        3.64e-01, 1.61e+01, 4.07e-01, 3.13e-01, 8.60e-03],\n",
              "       [4.20e+02, 1.62e+00, 1.98e-01, 3.68e+00, 9.12e-02, 1.25e+01,\n",
              "        3.70e-01, 1.62e+01, 4.11e-01, 3.14e-01, 8.70e-03],\n",
              "       [4.30e+02, 1.54e+00, 1.90e-01, 3.71e+00, 9.33e-02, 1.25e+01,\n",
              "        3.76e-01, 1.62e+01, 4.15e-01, 3.15e-01, 8.83e-03],\n",
              "       [4.40e+02, 1.45e+00, 1.75e-01, 3.74e+00, 9.53e-02, 1.25e+01,\n",
              "        3.83e-01, 1.63e+01, 4.16e-01, 3.16e-01, 8.98e-03],\n",
              "       [4.45e+02, 1.41e+00, 1.68e-01, 3.76e+00, 9.64e-02, 1.26e+01,\n",
              "        3.86e-01, 1.63e+01, 4.17e-01, 3.16e-01, 9.05e-03],\n",
              "       [4.50e+02, 1.37e+00, 1.63e-01, 3.77e+00, 9.75e-02, 1.26e+01,\n",
              "        3.91e-01, 1.63e+01, 4.18e-01, 3.17e-01, 9.16e-03],\n",
              "       [4.55e+02, 1.34e+00, 1.60e-01, 3.79e+00, 9.85e-02, 1.26e+01,\n",
              "        3.97e-01, 1.64e+01, 4.21e-01, 3.18e-01, 9.27e-03],\n",
              "       [4.60e+02, 1.31e+00, 1.59e-01, 3.80e+00, 9.96e-02, 1.26e+01,\n",
              "        4.00e-01, 1.64e+01, 4.25e-01, 3.18e-01, 9.37e-03],\n",
              "       [4.65e+02, 1.28e+00, 1.59e-01, 3.81e+00, 1.01e-01, 1.26e+01,\n",
              "        4.04e-01, 1.64e+01, 4.29e-01, 3.19e-01, 9.46e-03],\n",
              "       [4.70e+02, 1.25e+00, 1.59e-01, 3.82e+00, 1.02e-01, 1.26e+01,\n",
              "        4.07e-01, 1.65e+01, 4.33e-01, 3.19e-01, 9.57e-03],\n",
              "       [4.75e+02, 1.23e+00, 1.58e-01, 3.84e+00, 1.03e-01, 1.26e+01,\n",
              "        4.11e-01, 1.65e+01, 4.37e-01, 3.20e-01, 9.67e-03],\n",
              "       [4.80e+02, 1.20e+00, 1.57e-01, 3.85e+00, 1.04e-01, 1.27e+01,\n",
              "        4.15e-01, 1.65e+01, 4.42e-01, 3.21e-01, 9.76e-03],\n",
              "       [4.85e+02, 1.18e+00, 1.57e-01, 3.86e+00, 1.05e-01, 1.27e+01,\n",
              "        4.20e-01, 1.65e+01, 4.45e-01, 3.21e-01, 9.87e-03],\n",
              "       [4.90e+02, 1.15e+00, 1.56e-01, 3.87e+00, 1.06e-01, 1.27e+01,\n",
              "        4.24e-01, 1.66e+01, 4.50e-01, 3.22e-01, 9.99e-03],\n",
              "       [4.95e+02, 1.13e+00, 1.55e-01, 3.88e+00, 1.08e-01, 1.27e+01,\n",
              "        4.28e-01, 1.66e+01, 4.54e-01, 3.23e-01, 1.01e-02],\n",
              "       [5.00e+02, 1.10e+00, 1.54e-01, 3.89e+00, 1.09e-01, 1.27e+01,\n",
              "        4.29e-01, 1.66e+01, 4.58e-01, 3.23e-01, 1.03e-02],\n",
              "       [5.05e+02, 1.08e+00, 1.51e-01, 3.90e+00, 1.10e-01, 1.27e+01,\n",
              "        4.32e-01, 1.66e+01, 4.61e-01, 3.24e-01, 1.04e-02],\n",
              "       [5.10e+02, 1.05e+00, 1.48e-01, 3.91e+00, 1.11e-01, 1.27e+01,\n",
              "        4.35e-01, 1.66e+01, 4.63e-01, 3.25e-01, 1.05e-02]])"
            ]
          },
          "metadata": {},
          "execution_count": 12
        }
      ]
    },
    {
      "cell_type": "code",
      "source": [
        "Temp = EoS_data[:,0]"
      ],
      "metadata": {
        "id": "Uksiqh2QjeW5"
      },
      "execution_count": 13,
      "outputs": []
    },
    {
      "cell_type": "code",
      "source": [
        "I = pd.Series(EoS_data[:,1],index = EoS_data[:,0])"
      ],
      "metadata": {
        "id": "IsaWWFOGiRrW"
      },
      "execution_count": 14,
      "outputs": []
    },
    {
      "cell_type": "code",
      "source": [
        "I.plot()"
      ],
      "metadata": {
        "colab": {
          "base_uri": "https://localhost:8080/",
          "height": 285
        },
        "id": "sKD7_GlJj_8q",
        "outputId": "118d5588-c85b-4dba-c15b-f07b0088351b"
      },
      "execution_count": 15,
      "outputs": [
        {
          "output_type": "execute_result",
          "data": {
            "text/plain": [
              "<matplotlib.axes._subplots.AxesSubplot at 0x7f59fae81e50>"
            ]
          },
          "metadata": {},
          "execution_count": 15
        },
        {
          "output_type": "display_data",
          "data": {
            "text/plain": [
              "<Figure size 432x288 with 1 Axes>"
            ],
            "image/png": "[encoded data removed]"
          },
          "metadata": {
            "needs_background": "light"
          }
        }
      ]
    },
    {
      "cell_type": "code",
      "source": [
        "dI = pd.Series(EoS_data[:,2],index = EoS_data[:,0])"
      ],
      "metadata": {
        "id": "F6t6OFpXkH5g"
      },
      "execution_count": 16,
      "outputs": []
    },
    {
      "cell_type": "code",
      "source": [
        "dI.plot()"
      ],
      "metadata": {
        "colab": {
          "base_uri": "https://localhost:8080/",
          "height": 283
        },
        "id": "TU116uv6kjyW",
        "outputId": "61a553b1-63e1-4208-bded-ebb2d7cd8007"
      },
      "execution_count": 17,
      "outputs": [
        {
          "output_type": "execute_result",
          "data": {
            "text/plain": [
              "<matplotlib.axes._subplots.AxesSubplot at 0x7f59f77ca750>"
            ]
          },
          "metadata": {},
          "execution_count": 17
        },
        {
          "output_type": "display_data",
          "data": {
            "text/plain": [
              "<Figure size 432x288 with 1 Axes>"
            ],
            "image/png": "[encoded data removed]"
          },
          "metadata": {
            "needs_background": "light"
          }
        }
      ]
    },
    {
      "cell_type": "code",
      "source": [
        "P = pd.Series(EoS_data[:,3],index = EoS_data[:,0])"
      ],
      "metadata": {
        "id": "3q3576jxkmRr"
      },
      "execution_count": 18,
      "outputs": []
    },
    {
      "cell_type": "code",
      "source": [
        "P.plot()"
      ],
      "metadata": {
        "colab": {
          "base_uri": "https://localhost:8080/",
          "height": 283
        },
        "id": "3brLQqUKSMYu",
        "outputId": "fb732828-65c5-4818-8ceb-52106942f271"
      },
      "execution_count": 21,
      "outputs": [
        {
          "output_type": "execute_result",
          "data": {
            "text/plain": [
              "<matplotlib.axes._subplots.AxesSubplot at 0x7f59f7776dd0>"
            ]
          },
          "metadata": {},
          "execution_count": 21
        },
        {
          "output_type": "display_data",
          "data": {
            "text/plain": [
              "<Figure size 432x288 with 1 Axes>"
            ],
            "image/png": "[encoded data removed]"
          },
          "metadata": {
            "needs_background": "light"
          }
        }
      ]
    },
    {
      "cell_type": "code",
      "source": [
        "dP = pd.Series(EoS_data[:,4],index = EoS_data[:,0])"
      ],
      "metadata": {
        "id": "rISCc0MxSfQC"
      },
      "execution_count": 22,
      "outputs": []
    },
    {
      "cell_type": "code",
      "source": [
        "dP.plot()"
      ],
      "metadata": {
        "colab": {
          "base_uri": "https://localhost:8080/",
          "height": 283
        },
        "id": "123o_KfYSzPa",
        "outputId": "71e89ddb-2f75-417f-c932-47a3c9e49132"
      },
      "execution_count": 23,
      "outputs": [
        {
          "output_type": "execute_result",
          "data": {
            "text/plain": [
              "<matplotlib.axes._subplots.AxesSubplot at 0x7f59f774acd0>"
            ]
          },
          "metadata": {},
          "execution_count": 23
        },
        {
          "output_type": "display_data",
          "data": {
            "text/plain": [
              "<Figure size 432x288 with 1 Axes>"
            ],
            "image/png": "[encoded data removed]"
          },
          "metadata": {
            "needs_background": "light"
          }
        }
      ]
    },
    {
      "cell_type": "code",
      "source": [
        "eps = pd.Series(EoS_data[:,5],index = EoS_data[:,0])"
      ],
      "metadata": {
        "id": "r5kcYcLZS2HZ"
      },
      "execution_count": 24,
      "outputs": []
    },
    {
      "cell_type": "code",
      "source": [
        "eps.plot()"
      ],
      "metadata": {
        "colab": {
          "base_uri": "https://localhost:8080/",
          "height": 283
        },
        "id": "BiUw3w04S78V",
        "outputId": "7a84cc47-83aa-4fc6-b3d0-f04c5cfc70f9"
      },
      "execution_count": 25,
      "outputs": [
        {
          "output_type": "execute_result",
          "data": {
            "text/plain": [
              "<matplotlib.axes._subplots.AxesSubplot at 0x7f59f74617d0>"
            ]
          },
          "metadata": {},
          "execution_count": 25
        },
        {
          "output_type": "display_data",
          "data": {
            "text/plain": [
              "<Figure size 432x288 with 1 Axes>"
            ],
            "image/png": "[encoded data removed]"
          },
          "metadata": {
            "needs_background": "light"
          }
        }
      ]
    },
    {
      "cell_type": "code",
      "source": [
        "deps = pd.Series(EoS_data[:,6],index = EoS_data[:,0])"
      ],
      "metadata": {
        "id": "gFoj21nAS9BS"
      },
      "execution_count": 26,
      "outputs": []
    },
    {
      "cell_type": "code",
      "source": [
        "deps.plot()"
      ],
      "metadata": {
        "colab": {
          "base_uri": "https://localhost:8080/",
          "height": 283
        },
        "id": "ytKsSDz8TFIM",
        "outputId": "a8518bf2-3165-4652-b6fa-fab11bae9835"
      },
      "execution_count": 27,
      "outputs": [
        {
          "output_type": "execute_result",
          "data": {
            "text/plain": [
              "<matplotlib.axes._subplots.AxesSubplot at 0x7f59f7755ad0>"
            ]
          },
          "metadata": {},
          "execution_count": 27
        },
        {
          "output_type": "display_data",
          "data": {
            "text/plain": [
              "<Figure size 432x288 with 1 Axes>"
            ],
            "image/png": "[encoded data removed]"
          },
          "metadata": {
            "needs_background": "light"
          }
        }
      ]
    },
    {
      "cell_type": "code",
      "source": [
        "s = pd.Series(EoS_data[:,7],index = EoS_data[:,0])"
      ],
      "metadata": {
        "id": "ik1QWsenTGVX"
      },
      "execution_count": 28,
      "outputs": []
    },
    {
      "cell_type": "code",
      "source": [
        "s.plot()"
      ],
      "metadata": {
        "colab": {
          "base_uri": "https://localhost:8080/",
          "height": 283
        },
        "id": "J6-5IeqJTMGu",
        "outputId": "c09b3017-dbe9-4191-8275-df75a5d450f4"
      },
      "execution_count": 29,
      "outputs": [
        {
          "output_type": "execute_result",
          "data": {
            "text/plain": [
              "<matplotlib.axes._subplots.AxesSubplot at 0x7f59f743e390>"
            ]
          },
          "metadata": {},
          "execution_count": 29
        },
        {
          "output_type": "display_data",
          "data": {
            "text/plain": [
              "<Figure size 432x288 with 1 Axes>"
            ],
            "image/png": "[encoded data removed]"
          },
          "metadata": {
            "needs_background": "light"
          }
        }
      ]
    },
    {
      "cell_type": "code",
      "source": [
        "ds = pd.Series(EoS_data[:,8],index = EoS_data[:,0])"
      ],
      "metadata": {
        "id": "K-AzEqg_TM-J"
      },
      "execution_count": 30,
      "outputs": []
    },
    {
      "cell_type": "code",
      "source": [
        "ds.plot()"
      ],
      "metadata": {
        "colab": {
          "base_uri": "https://localhost:8080/",
          "height": 287
        },
        "id": "LX1HKSioTyW7",
        "outputId": "365b66fa-bf3e-45fb-a246-94fdb0165b7f"
      },
      "execution_count": 31,
      "outputs": [
        {
          "output_type": "execute_result",
          "data": {
            "text/plain": [
              "<matplotlib.axes._subplots.AxesSubplot at 0x7f59f73315d0>"
            ]
          },
          "metadata": {},
          "execution_count": 31
        },
        {
          "output_type": "display_data",
          "data": {
            "text/plain": [
              "<Figure size 432x288 with 1 Axes>"
            ],
            "image/png": "[encoded data removed]"
          },
          "metadata": {
            "needs_background": "light"
          }
        }
      ]
    },
    {
      "cell_type": "code",
      "source": [
        "cs = pd.Series(EoS_data[:,9],index = EoS_data[:,0])"
      ],
      "metadata": {
        "id": "rgxtGlVUTzg1"
      },
      "execution_count": 32,
      "outputs": []
    },
    {
      "cell_type": "code",
      "source": [
        "cs.plot()"
      ],
      "metadata": {
        "colab": {
          "base_uri": "https://localhost:8080/",
          "height": 283
        },
        "id": "aVGLZZykUBeA",
        "outputId": "391c778e-7ef1-4804-a2c2-1d19748ff409"
      },
      "execution_count": 40,
      "outputs": [
        {
          "output_type": "execute_result",
          "data": {
            "text/plain": [
              "<matplotlib.axes._subplots.AxesSubplot at 0x7f59f70c1b90>"
            ]
          },
          "metadata": {},
          "execution_count": 40
        },
        {
          "output_type": "display_data",
          "data": {
            "text/plain": [
              "<Figure size 432x288 with 1 Axes>"
            ],
            "image/png": "[encoded data removed]"
          },
          "metadata": {
            "needs_background": "light"
          }
        }
      ]
    },
    {
      "cell_type": "code",
      "source": [
        "dcs = pd.Series(EoS_data[:,10],index = EoS_data[:,0])"
      ],
      "metadata": {
        "id": "dlXSHiX8UDHC"
      },
      "execution_count": 35,
      "outputs": []
    },
    {
      "cell_type": "code",
      "source": [
        "dcs.plot()"
      ],
      "metadata": {
        "colab": {
          "base_uri": "https://localhost:8080/",
          "height": 283
        },
        "id": "97LNy26vUN90",
        "outputId": "ab6245bb-bb33-4d8e-eee5-d124713ab7b3"
      },
      "execution_count": 37,
      "outputs": [
        {
          "output_type": "execute_result",
          "data": {
            "text/plain": [
              "<matplotlib.axes._subplots.AxesSubplot at 0x7f59f71d1810>"
            ]
          },
          "metadata": {},
          "execution_count": 37
        },
        {
          "output_type": "display_data",
          "data": {
            "text/plain": [
              "<Figure size 432x288 with 1 Axes>"
            ],
            "image/png": "[encoded data removed]"
          },
          "metadata": {
            "needs_background": "light"
          }
        }
      ]
    },
    {
      "cell_type": "code",
      "source": [],
      "metadata": {
        "id": "IGb8KTLKUPLY"
      },
      "execution_count": null,
      "outputs": []
    }
  ]
}